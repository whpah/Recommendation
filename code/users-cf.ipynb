{
 "cells": [
  {
   "cell_type": "markdown",
   "metadata": {
    "pycharm": {
     "name": "#%% md\n"
    }
   },
   "source": [
    "# 基于用户的协同过滤推荐"
   ]
  },
  {
   "cell_type": "code",
   "execution_count": 8,
   "metadata": {
    "pycharm": {
     "name": "#%%\n"
    }
   },
   "outputs": [],
   "source": [
    "# 导入包\n",
    "import random\n",
    "import math\n",
    "import time\n",
    "import pandas as pd\n",
    "import matplotlib.pyplot as plt\n",
    "import numpy as np"
   ]
  },
  {
   "cell_type": "markdown",
   "metadata": {
    "pycharm": {
     "name": "#%% md\n"
    }
   },
   "source": [
    "## 一. 通用函数定义"
   ]
  },
  {
   "cell_type": "code",
   "execution_count": 9,
   "metadata": {
    "pycharm": {
     "name": "#%%\n"
    }
   },
   "outputs": [],
   "source": [
    "# 定义装饰器，监控运行时间\n",
    "def timmer(func):\n",
    "    def wrapper(*args, **kwargs):\n",
    "        start_time = time.time()#开始时间\n",
    "        res = func(*args, **kwargs)\n",
    "        stop_time = time.time()#结束时间\n",
    "        print('Func %s, run time: %s' % (func.__name__, stop_time - start_time))\n",
    "        return res\n",
    "    return wrapper"
   ]
  },
  {
   "cell_type": "markdown",
   "metadata": {
    "pycharm": {
     "name": "#%% md\n"
    }
   },
   "source": [
    "### 1. 数据处理相关\n",
    "1. load data\n",
    "2. split data"
   ]
  },
  {
   "cell_type": "code",
   "execution_count": 10,
   "metadata": {
    "pycharm": {
     "name": "#%%\n"
    }
   },
   "outputs": [],
   "source": [
    "class Dataset():\n",
    "    \n",
    "    def __init__(self, fp):\n",
    "        # fp: data file path\n",
    "        self.data = self.loadData(fp)\n",
    "    \n",
    "    def loadData(self, fp):\n",
    "        data = []\n",
    "        for l in open(fp):\n",
    "            data.append(tuple(map(int, l.strip().split('::')[:2]))) #删除数据头部和尾部的空白符号并按照‘::’进行分割，取分割后列表的头两个元素并将其转换为 int型列表，最后再将该列表转换为元组，并添加至data列表中 例如 [(1,2),(3,4)]\n",
    "        return data\n",
    "    \n",
    "    def splitData(self, M, k, seed=1):\n",
    "        '''\n",
    "        :params: data, 加载的所有(user, item)数据条目\n",
    "        :params: M, 划分的数目,最后需要取 M折的平均\n",
    "        :params: k, 本次是第几次划分,k~[0, M)\n",
    "        :params: seed, random的种子数,对于不同的k应设置成一样的\n",
    "        :return: train, test\n",
    "        '''\n",
    "        train, test = [], [] #划分训练集和测试集\n",
    "        random.seed(seed) #改变随机数生成器的种子\n",
    "        for user, item in self.data:\n",
    "            # 这里与书中的不一致，本人认为取M-1较为合理，因randint是左右都覆盖的\n",
    "            if random.randint(0, M-1) == k:  \n",
    "                test.append((user, item))\n",
    "            else:\n",
    "                train.append((user, item))\n",
    "\n",
    "        # 处理成字典的形式，user->set(items) {UserID1:{MovieID1},UserID2:{MovieID2}}\n",
    "        def convert_dict(data):\n",
    "            data_dict = {}\n",
    "            for user, item in data:\n",
    "                if user not in data_dict:\n",
    "                    data_dict[user] = set()\n",
    "                data_dict[user].add(item)\n",
    "            data_dict = {k: list(data_dict[k]) for k in data_dict} #将{UserID1:{MovieID1},UserID2:{MovieID2}}==>{UserID1:[MovieID1],UserID2:[MovieID2]}\n",
    "            return data_dict\n",
    "\n",
    "        return convert_dict(train), convert_dict(test)"
   ]
  },
  {
   "cell_type": "markdown",
   "metadata": {
    "pycharm": {
     "name": "#%% md\n"
    }
   },
   "source": [
    "### 2. 评价指标\n",
    "1. Precision（精确率）\n",
    "2. Recall（召回率）\n",
    "3. Coverage（覆盖率）\n",
    "4. Popularity(Novelty)（新颖度）"
   ]
  },
  {
   "cell_type": "code",
   "execution_count": 11,
   "metadata": {
    "pycharm": {
     "name": "#%%\n"
    }
   },
   "outputs": [],
   "source": [
    "class Metric():\n",
    "    \n",
    "    def __init__(self, train, test, GetRecommendation):\n",
    "        '''\n",
    "        :params: train, 训练数据\n",
    "        :params: test, 测试数据\n",
    "        :params: GetRecommendation, 为某个用户获取推荐物品的接口函数\n",
    "        '''\n",
    "        self.train = train\n",
    "        self.test = test\n",
    "        self.GetRecommendation = GetRecommendation\n",
    "        self.recs = self.getRec()\n",
    "        \n",
    "    # 为test中的每个用户进行推荐\n",
    "    def getRec(self):\n",
    "        recs = {}\n",
    "        for user in self.test:\n",
    "            rank = self.GetRecommendation(user)\n",
    "            recs[user] = rank\n",
    "        return recs\n",
    "        \n",
    "    # 定义精确率指标计算方式\n",
    "    def precision(self):\n",
    "        all, hit = 0, 0\n",
    "        for user in self.test:\n",
    "            test_items = set(self.test[user])\n",
    "            rank = self.recs[user]\n",
    "            for item, score in rank:\n",
    "                if item in test_items:\n",
    "                    hit += 1\n",
    "            all += len(rank)\n",
    "        return round(hit / all * 100, 2)\n",
    "    \n",
    "    # 定义召回率指标计算方式\n",
    "    def recall(self):\n",
    "        all, hit = 0, 0\n",
    "        for user in self.test:\n",
    "            test_items = set(self.test[user])\n",
    "            rank = self.recs[user]\n",
    "            for item, score in rank:\n",
    "                if item in test_items:\n",
    "                    hit += 1\n",
    "            all += len(test_items)\n",
    "        return round(hit / all * 100, 2)\n",
    "    \n",
    "    # 定义覆盖率指标计算方式\n",
    "    def coverage(self):\n",
    "        all_item, recom_item = set(), set()\n",
    "        for user in self.test:\n",
    "            for item in self.train[user]:\n",
    "                all_item.add(item)\n",
    "            rank = self.recs[user]\n",
    "            for item, score in rank:\n",
    "                recom_item.add(item)\n",
    "        return round(len(recom_item) / len(all_item) * 100, 2)\n",
    "    \n",
    "    # 定义新颖度指标计算方式\n",
    "    def popularity(self):\n",
    "        # 计算物品的流行度\n",
    "        item_pop = {}\n",
    "        for user in self.train:\n",
    "            for item in self.train[user]:\n",
    "                if item not in item_pop:\n",
    "                    item_pop[item] = 0\n",
    "                item_pop[item] += 1\n",
    "\n",
    "        num, pop = 0, 0\n",
    "        for user in self.test:\n",
    "            rank = self.recs[user]\n",
    "            for item, score in rank:\n",
    "                # 取对数，防止因长尾问题带来的被流行物品所主导\n",
    "                pop += math.log(1 + item_pop[item])\n",
    "                num += 1\n",
    "        return round(pop / num, 6)\n",
    "    \n",
    "    def eval(self):\n",
    "        metric = {'Precision': self.precision(),\n",
    "                  'Recall': self.recall(),\n",
    "                  'Coverage': self.coverage(),\n",
    "                  'Popularity': self.popularity()}\n",
    "        print('Metric:', metric)\n",
    "        return metric"
   ]
  },
  {
   "cell_type": "markdown",
   "metadata": {
    "pycharm": {
     "name": "#%% md\n"
    }
   },
   "source": [
    "## 二. 算法实现\n",
    "1. UserCF\n",
    "2. UserIIF"
   ]
  },
  {
   "cell_type": "code",
   "execution_count": 12,
   "metadata": {
    "pycharm": {
     "name": "#%%\n"
    }
   },
   "outputs": [],
   "source": [
    "# 1. 基于用户余弦相似度的推荐\n",
    "def UserCF(train, K, N):\n",
    "    '''\n",
    "    :params: train, 训练数据集\n",
    "    :params: K, 超参数,设置取TopK相似用户数目\n",
    "    :params: N, 超参数,设置取TopN推荐物品数目\n",
    "    :return: GetRecommendation, 推荐接口函数\n",
    "    '''\n",
    "    # 计算item->user的倒排索引\n",
    "    item_users = {}\n",
    "    for user in train:\n",
    "        for item in train[user]:\n",
    "            if item not in item_users:\n",
    "                item_users[item] = []\n",
    "            item_users[item].append(user)\n",
    "    \n",
    "    # 计算用户兴趣相似度\n",
    "    sim = {}\n",
    "    num = {}\n",
    "    for item in item_users:\n",
    "        users = item_users[item]\n",
    "        for i in range(len(users)):\n",
    "            u = users[i]\n",
    "            if u not in num:\n",
    "                num[u] = 0\n",
    "            num[u] += 1\n",
    "            if u not in sim:\n",
    "                sim[u] = {}\n",
    "            for j in range(len(users)):\n",
    "                if j == i: continue\n",
    "                v = users[j]\n",
    "                if v not in sim[u]:\n",
    "                    sim[u][v] = 0\n",
    "                sim[u][v] += 1\n",
    "    for u in sim:\n",
    "        for v in sim[u]:\n",
    "            sim[u][v] /= math.sqrt(num[u] * num[v]) #用户U和用户V的兴趣相似度\n",
    "    \n",
    "    # 按照相似度排序\n",
    "    sorted_user_sim = {k: list(sorted(v.items(), \\\n",
    "                               key=lambda x: x[1], reverse=True)) \\\n",
    "                       for k, v in sim.items()}\n",
    "    \n",
    "    # 获取接口函数\n",
    "    def GetRecommendation(user):\n",
    "        items = {}\n",
    "        seen_items = set(train[user])\n",
    "        for u, _ in sorted_user_sim[user][:K]:\n",
    "            for item in train[u]:\n",
    "                # 要去掉用户见过的\n",
    "                if item not in seen_items:\n",
    "                    if item not in items:\n",
    "                        items[item] = 0\n",
    "                    items[item] += sim[user][u]\n",
    "        recs = list(sorted(items.items(), key=lambda x: x[1], reverse=True))[:N]\n",
    "        return recs\n",
    "    \n",
    "    return GetRecommendation"
   ]
  },
  {
   "cell_type": "markdown",
   "metadata": {
    "pycharm": {
     "name": "#%% md\n"
    }
   },
   "source": [
    "## 三. 实验\n",
    "1. Random实验\n",
    "2. MostPopular实验\n",
    "3. UserCF实验，K=[5, 10, 20, 40, 80, 160]\n",
    "\n",
    "M=8, N=10"
   ]
  },
  {
   "cell_type": "code",
   "execution_count": 13,
   "outputs": [],
   "source": [
    "metricList1=[] #存放平均数据"
   ],
   "metadata": {
    "collapsed": false,
    "pycharm": {
     "name": "#%%\n"
    }
   }
  },
  {
   "cell_type": "code",
   "execution_count": 14,
   "metadata": {
    "pycharm": {
     "name": "#%%\n"
    }
   },
   "outputs": [],
   "source": [
    "class Experiment():\n",
    "    \n",
    "    def __init__(self, M, K, N, fp='../dataset/ml-1m/ratings.dat', rt='UserCF'):\n",
    "        '''\n",
    "        :params: M, 进行多少次实验\n",
    "        :params: K, TopK相似用户的个数\n",
    "        :params: N, TopN推荐物品的个数\n",
    "        :params: fp, 数据文件路径\n",
    "        :params: rt, 推荐算法类型\n",
    "        '''\n",
    "        self.M = M\n",
    "        self.K = K\n",
    "        self.N = N\n",
    "        self.fp = fp\n",
    "        self.rt = rt\n",
    "        self.alg = {'UserCF': UserCF}\n",
    "    \n",
    "    # 定义单次实验\n",
    "    @timmer\n",
    "    def worker(self, train, test):\n",
    "        '''\n",
    "        :params: train, 训练数据集\n",
    "        :params: test, 实验数据集\n",
    "        :return: 各指标的值\n",
    "        '''\n",
    "        getRecommendation = self.alg[self.rt](train, self.K, self.N)#调用UserCF函数\n",
    "        metric = Metric(train, test, getRecommendation)\n",
    "        return metric.eval()\n",
    "    \n",
    "    # 多次实验取平均\n",
    "    @timmer\n",
    "    def run(self):\n",
    "        metrics = {'Precision': 0, 'Recall': 0, 'Coverage': 0, 'Popularity': 0} #衡量标准\n",
    "        metricList = []\n",
    "\n",
    "        dataset = Dataset(self.fp) #处理训练集的数据\n",
    "        for ii in range(self.M):\n",
    "            train, test = dataset.splitData(self.M, ii)\n",
    "            print('-------------------------Experiment {}-------------------------'.format(ii))\n",
    "            metric = self.worker(train, test) #调用单次实验\n",
    "            metricList.append(metric)#将数据存储\n",
    "            metrics = {k: metrics[k]+metric[k] for k in metrics}#将同一类的元素相加\n",
    "        metrics = {k: metrics[k] / self.M for k in metrics} #求得各评测指标的平均值\n",
    "        metricList1.append(metrics)\n",
    "        print('Average Result (M={}, K={}, N={}): {}'.format(self.M, self.K, self.N, metrics))\n",
    "        df = pd.DataFrame(metricList)#以表格形式呈现\n",
    "\n",
    "        fig, ax = plt.subplots() # 创建图实例\n",
    "        x = np.arange(1,9)\n",
    "        y1,y2,y3,y4=[],[],[],[]\n",
    "        for met in metricList:\n",
    "            y1.append(met['Precision'])\n",
    "            y2.append(met['Recall'])\n",
    "            y3.append(met['Coverage'])\n",
    "            y4.append(met['Popularity'])\n",
    "        ax.plot(x,y1,label='Precision')\n",
    "        ax.plot(x,y2,label='Recall')\n",
    "        ax.plot(x,y3,label='Coverage')\n",
    "        ax.plot(x,y4,label='Popularity')\n",
    "        ax.set_xlabel('Number of experiments') #设置x轴名称 Number of experiments\n",
    "        ax.set_title('Simple Plot') #设置图名为Simple Plot\n",
    "        ax.legend() #自动检测要在图例中显示的元素，并且显示\n",
    "\n",
    "        plt.show() #图形可视化\n",
    "\n",
    "        return df"
   ]
  },
  {
   "cell_type": "code",
   "execution_count": 15,
   "metadata": {
    "collapsed": true,
    "pycharm": {
     "name": "#%%\n"
    }
   },
   "outputs": [
    {
     "name": "stdout",
     "output_type": "stream",
     "text": [
      "-------------------------Experiment 0-------------------------\n",
      "Metric: {'Precision': 16.91, 'Recall': 8.12, 'Coverage': 52.36, 'Popularity': 6.819158}\n",
      "Func worker, run time: 75.48834228515625\n",
      "-------------------------Experiment 1-------------------------\n",
      "Metric: {'Precision': 17.05, 'Recall': 8.16, 'Coverage': 52.03, 'Popularity': 6.815594}\n",
      "Func worker, run time: 74.41063451766968\n",
      "-------------------------Experiment 2-------------------------\n",
      "Metric: {'Precision': 16.91, 'Recall': 8.09, 'Coverage': 51.69, 'Popularity': 6.818892}\n",
      "Func worker, run time: 74.95457482337952\n",
      "-------------------------Experiment 3-------------------------\n",
      "Metric: {'Precision': 16.95, 'Recall': 8.15, 'Coverage': 52.11, 'Popularity': 6.817726}\n",
      "Func worker, run time: 75.41245675086975\n",
      "-------------------------Experiment 4-------------------------\n",
      "Metric: {'Precision': 17.06, 'Recall': 8.2, 'Coverage': 52.14, 'Popularity': 6.821423}\n",
      "Func worker, run time: 75.38734006881714\n",
      "-------------------------Experiment 5-------------------------\n",
      "Metric: {'Precision': 16.76, 'Recall': 8.08, 'Coverage': 51.88, 'Popularity': 6.818674}\n",
      "Func worker, run time: 74.68517112731934\n",
      "-------------------------Experiment 6-------------------------\n",
      "Metric: {'Precision': 16.69, 'Recall': 8.02, 'Coverage': 51.63, 'Popularity': 6.82473}\n",
      "Func worker, run time: 74.67041063308716\n",
      "-------------------------Experiment 7-------------------------\n",
      "Metric: {'Precision': 16.88, 'Recall': 8.1, 'Coverage': 52.48, 'Popularity': 6.819526}\n",
      "Func worker, run time: 74.01742887496948\n",
      "Average Result (M=8, K=5, N=10): {'Precision': 16.90125, 'Recall': 8.114999999999998, 'Coverage': 52.04, 'Popularity': 6.819465375}\n"
     ]
    },
    {
     "data": {
      "text/plain": "<Figure size 432x288 with 1 Axes>",
      "image/png": "[encoded data removed]"
     },
     "metadata": {
      "needs_background": "light"
     },
     "output_type": "display_data"
    },
    {
     "name": "stdout",
     "output_type": "stream",
     "text": [
      "Func run, run time: 605.0693085193634\n",
      "   Precision  Recall  Coverage  Popularity\n",
      "0      16.91    8.12     52.36    6.819158\n",
      "1      17.05    8.16     52.03    6.815594\n",
      "2      16.91    8.09     51.69    6.818892\n",
      "3      16.95    8.15     52.11    6.817726\n",
      "4      17.06    8.20     52.14    6.821423\n",
      "5      16.76    8.08     51.88    6.818674\n",
      "6      16.69    8.02     51.63    6.824730\n",
      "7      16.88    8.10     52.48    6.819526\n",
      "-------------------------Experiment 0-------------------------\n",
      "Metric: {'Precision': 20.52, 'Recall': 9.86, 'Coverage': 41.95, 'Popularity': 6.982281}\n",
      "Func worker, run time: 74.5045895576477\n",
      "-------------------------Experiment 1-------------------------\n",
      "Metric: {'Precision': 20.47, 'Recall': 9.8, 'Coverage': 42.03, 'Popularity': 6.97276}\n",
      "Func worker, run time: 74.44136238098145\n",
      "-------------------------Experiment 2-------------------------\n",
      "Metric: {'Precision': 20.61, 'Recall': 9.85, 'Coverage': 41.57, 'Popularity': 6.980271}\n",
      "Func worker, run time: 75.37579345703125\n",
      "-------------------------Experiment 3-------------------------\n",
      "Metric: {'Precision': 20.42, 'Recall': 9.82, 'Coverage': 41.47, 'Popularity': 6.978843}\n",
      "Func worker, run time: 76.20311951637268\n",
      "-------------------------Experiment 4-------------------------\n",
      "Metric: {'Precision': 20.59, 'Recall': 9.9, 'Coverage': 41.5, 'Popularity': 6.980595}\n",
      "Func worker, run time: 75.38546323776245\n",
      "-------------------------Experiment 5-------------------------\n",
      "Metric: {'Precision': 20.33, 'Recall': 9.81, 'Coverage': 41.26, 'Popularity': 6.981309}\n",
      "Func worker, run time: 74.74368262290955\n",
      "-------------------------Experiment 6-------------------------\n",
      "Metric: {'Precision': 20.19, 'Recall': 9.71, 'Coverage': 41.49, 'Popularity': 6.976377}\n",
      "Func worker, run time: 75.43137216567993\n",
      "-------------------------Experiment 7-------------------------\n",
      "Metric: {'Precision': 20.59, 'Recall': 9.87, 'Coverage': 41.8, 'Popularity': 6.980998}\n",
      "Func worker, run time: 75.36385202407837\n",
      "Average Result (M=8, K=10, N=10): {'Precision': 20.465, 'Recall': 9.8275, 'Coverage': 41.63375, 'Popularity': 6.9791792500000005}\n"
     ]
    },
    {
     "data": {
      "text/plain": "<Figure size 432x288 with 1 Axes>",
      "image/png": "[encoded data removed]"
     },
     "metadata": {
      "needs_background": "light"
     },
     "output_type": "display_data"
    },
    {
     "name": "stdout",
     "output_type": "stream",
     "text": [
      "Func run, run time: 607.3979775905609\n",
      "   Precision  Recall  Coverage  Popularity\n",
      "0      20.52    9.86     41.95    6.982281\n",
      "1      20.47    9.80     42.03    6.972760\n",
      "2      20.61    9.85     41.57    6.980271\n",
      "3      20.42    9.82     41.47    6.978843\n",
      "4      20.59    9.90     41.50    6.980595\n",
      "5      20.33    9.81     41.26    6.981309\n",
      "6      20.19    9.71     41.49    6.976377\n",
      "7      20.59    9.87     41.80    6.980998\n",
      "-------------------------Experiment 0-------------------------\n",
      "Metric: {'Precision': 23.11, 'Recall': 11.1, 'Coverage': 32.6, 'Popularity': 7.1045}\n",
      "Func worker, run time: 77.4698052406311\n",
      "-------------------------Experiment 1-------------------------\n",
      "Metric: {'Precision': 22.96, 'Recall': 10.99, 'Coverage': 33.0, 'Popularity': 7.094808}\n",
      "Func worker, run time: 77.17454266548157\n",
      "-------------------------Experiment 2-------------------------\n",
      "Metric: {'Precision': 23.2, 'Recall': 11.09, 'Coverage': 32.1, 'Popularity': 7.101388}\n",
      "Func worker, run time: 76.9075927734375\n",
      "-------------------------Experiment 3-------------------------\n",
      "Metric: {'Precision': 22.87, 'Recall': 10.99, 'Coverage': 32.77, 'Popularity': 7.101266}\n",
      "Func worker, run time: 76.35828185081482\n",
      "-------------------------Experiment 4-------------------------\n",
      "Metric: {'Precision': 23.0, 'Recall': 11.06, 'Coverage': 33.25, 'Popularity': 7.10377}\n",
      "Func worker, run time: 76.72114324569702\n",
      "-------------------------Experiment 5-------------------------\n",
      "Metric: {'Precision': 22.96, 'Recall': 11.07, 'Coverage': 32.48, 'Popularity': 7.10406}\n",
      "Func worker, run time: 78.15752077102661\n",
      "-------------------------Experiment 6-------------------------\n",
      "Metric: {'Precision': 22.83, 'Recall': 10.97, 'Coverage': 32.79, 'Popularity': 7.100858}\n",
      "Func worker, run time: 77.62287497520447\n",
      "-------------------------Experiment 7-------------------------\n",
      "Metric: {'Precision': 23.0, 'Recall': 11.03, 'Coverage': 33.24, 'Popularity': 7.10826}\n",
      "Func worker, run time: 77.76354718208313\n",
      "Average Result (M=8, K=20, N=10): {'Precision': 22.99125, 'Recall': 11.037500000000001, 'Coverage': 32.778749999999995, 'Popularity': 7.102363749999999}\n"
     ]
    },
    {
     "data": {
      "text/plain": "<Figure size 432x288 with 1 Axes>",
      "image/png": "[encoded data removed]"
     },
     "metadata": {
      "needs_background": "light"
     },
     "output_type": "display_data"
    },
    {
     "name": "stdout",
     "output_type": "stream",
     "text": [
      "Func run, run time: 624.2239000797272\n",
      "   Precision  Recall  Coverage  Popularity\n",
      "0      23.11   11.10     32.60    7.104500\n",
      "1      22.96   10.99     33.00    7.094808\n",
      "2      23.20   11.09     32.10    7.101388\n",
      "3      22.87   10.99     32.77    7.101266\n",
      "4      23.00   11.06     33.25    7.103770\n",
      "5      22.96   11.07     32.48    7.104060\n",
      "6      22.83   10.97     32.79    7.100858\n",
      "7      23.00   11.03     33.24    7.108260\n",
      "-------------------------Experiment 0-------------------------\n",
      "Metric: {'Precision': 24.73, 'Recall': 11.88, 'Coverage': 25.8, 'Popularity': 7.204384}\n",
      "Func worker, run time: 80.68451690673828\n",
      "-------------------------Experiment 1-------------------------\n",
      "Metric: {'Precision': 24.66, 'Recall': 11.81, 'Coverage': 26.03, 'Popularity': 7.19405}\n",
      "Func worker, run time: 81.42308068275452\n",
      "-------------------------Experiment 2-------------------------\n",
      "Metric: {'Precision': 24.68, 'Recall': 11.8, 'Coverage': 25.66, 'Popularity': 7.20158}\n",
      "Func worker, run time: 81.23982572555542\n",
      "-------------------------Experiment 3-------------------------\n",
      "Metric: {'Precision': 24.46, 'Recall': 11.76, 'Coverage': 25.89, 'Popularity': 7.201308}\n",
      "Func worker, run time: 81.53433561325073\n",
      "-------------------------Experiment 4-------------------------\n",
      "Metric: {'Precision': 24.25, 'Recall': 11.66, 'Coverage': 25.76, 'Popularity': 7.204154}\n",
      "Func worker, run time: 80.38139462471008\n",
      "-------------------------Experiment 5-------------------------\n",
      "Metric: {'Precision': 24.46, 'Recall': 11.8, 'Coverage': 26.04, 'Popularity': 7.205482}\n",
      "Func worker, run time: 81.52369594573975\n",
      "-------------------------Experiment 6-------------------------\n",
      "Metric: {'Precision': 24.49, 'Recall': 11.77, 'Coverage': 26.12, 'Popularity': 7.199023}\n",
      "Func worker, run time: 79.2915461063385\n",
      "-------------------------Experiment 7-------------------------\n",
      "Metric: {'Precision': 24.58, 'Recall': 11.79, 'Coverage': 25.79, 'Popularity': 7.207737}\n",
      "Func worker, run time: 95.81995844841003\n",
      "Average Result (M=8, K=40, N=10): {'Precision': 24.53875, 'Recall': 11.783749999999998, 'Coverage': 25.886249999999997, 'Popularity': 7.20221475}\n"
     ]
    },
    {
     "data": {
      "text/plain": "<Figure size 432x288 with 1 Axes>",
      "image/png": "[encoded data removed]"
     },
     "metadata": {
      "needs_background": "light"
     },
     "output_type": "display_data"
    },
    {
     "name": "stdout",
     "output_type": "stream",
     "text": [
      "Func run, run time: 667.8962829113007\n",
      "   Precision  Recall  Coverage  Popularity\n",
      "0      24.73   11.88     25.80    7.204384\n",
      "1      24.66   11.81     26.03    7.194050\n",
      "2      24.68   11.80     25.66    7.201580\n",
      "3      24.46   11.76     25.89    7.201308\n",
      "4      24.25   11.66     25.76    7.204154\n",
      "5      24.46   11.80     26.04    7.205482\n",
      "6      24.49   11.77     26.12    7.199023\n",
      "7      24.58   11.79     25.79    7.207737\n"
     ]
    },
    {
     "data": {
      "text/plain": "<Figure size 432x288 with 1 Axes>",
      "image/png": "[encoded data removed]"
     },
     "metadata": {
      "needs_background": "light"
     },
     "output_type": "display_data"
    }
   ],
   "source": [
    "# 1. UserCF实验\n",
    "M, N = 8, 10 #M：试验次数 N：推荐物品的个数 K：相似用户的个数\n",
    "for K in [5,10,20,40]:\n",
    "    cf_exp = Experiment(M, K, N, rt='UserCF')\n",
    "    df = cf_exp.run()\n",
    "    print(df)\n",
    "\n",
    "x11=[5,10,20,40]\n",
    "y11,y22,y33,y44=[],[],[],[]\n",
    "for i in metricList1:\n",
    "    y11.append(i['Precision'])\n",
    "    y22.append(i['Recall'])\n",
    "    y33.append(i['Coverage'])\n",
    "    y44.append(i['Popularity'])\n",
    "\n",
    "fig,ax=plt.subplots()\n",
    "ax.plot(x11,y11,label='Precision')\n",
    "ax.plot(x11,y22,label='Recall')\n",
    "ax.plot(x11,y33,label='Coverage')\n",
    "ax.plot(x11,y44,label='Popularity')\n",
    "ax.set_xlabel('Number of users')\n",
    "ax.set_title('Simple Plot') #设置图名为Simple Plot\n",
    "ax.legend() #自动检测要在图例中显示的元素，并且显示\n",
    "\n",
    "plt.show()"
   ]
  },
  {
   "cell_type": "markdown",
   "metadata": {
    "pycharm": {
     "name": "#%% md\n"
    }
   },
   "source": [
    "## 五. 总结\n",
    "1. 数据集分割的小技巧，用同样的seed\n",
    "2. 各个指标的实现，要注意\n",
    "3. 为每个用户推荐的时候是推荐他们**没有见过**的，因为实验集里面是这样的\n",
    "4. 倒排物品-用户索引，可进行时间优化\n",
    "5. 推荐的时候K和N各代表什么意思，要分开设置，先取TopK，然后取TopN"
   ]
  }
 ],
 "metadata": {
  "kernelspec": {
   "display_name": "Python 3.10.6 64-bit",
   "language": "python",
   "name": "python3"
  },
  "language_info": {
   "codemirror_mode": {
    "name": "ipython",
    "version": 3
   },
   "file_extension": ".py",
   "mimetype": "text/x-python",
   "name": "python",
   "nbconvert_exporter": "python",
   "pygments_lexer": "ipython3",
   "version": "3.10.6"
  },
  "vscode": {
   "interpreter": {
    "hash": "8982608a9657a5444ba9b32d555c41c3eb9e25a6f4f15125221437c47bd45251"
   }
  }
 },
 "nbformat": 4,
 "nbformat_minor": 2
}
{
 "cells": [
  {
   "cell_type": "markdown",
   "metadata": {
    "pycharm": {
     "name": "#%% md\n"
    }
   },
   "source": [
    "# 基于物品的协同过滤推荐"
   ]
  },
  {
   "cell_type": "code",
   "execution_count": 1,
   "metadata": {
    "pycharm": {
     "name": "#%%\n"
    }
   },
   "outputs": [],
   "source": [
    "# 导入包\n",
    "import random\n",
    "import math\n",
    "import time\n",
    "import numpy as np\n",
    "import matplotlib.pyplot as plt\n",
    "import pandas as pd"
   ]
  },
  {
   "cell_type": "markdown",
   "metadata": {
    "pycharm": {
     "name": "#%% md\n"
    }
   },
   "source": [
    "## 一. 通用函数定义"
   ]
  },
  {
   "cell_type": "code",
   "execution_count": 2,
   "metadata": {
    "pycharm": {
     "name": "#%%\n"
    }
   },
   "outputs": [],
   "source": [
    "# 定义装饰器，监控运行时间\n",
    "def timmer(func):\n",
    "    def wrapper(*args, **kwargs):\n",
    "        start_time = time.time()\n",
    "        res = func(*args, **kwargs)\n",
    "        stop_time = time.time()\n",
    "        print('Func %s, run time: %s' % (func.__name__, stop_time - start_time))\n",
    "        return res\n",
    "    return wrapper"
   ]
  },
  {
   "cell_type": "markdown",
   "metadata": {
    "pycharm": {
     "name": "#%% md\n"
    }
   },
   "source": [
    "### 1. 数据处理相关\n",
    "1. load data\n",
    "2. split data"
   ]
  },
  {
   "cell_type": "code",
   "execution_count": 3,
   "metadata": {
    "pycharm": {
     "name": "#%%\n"
    }
   },
   "outputs": [],
   "source": [
    "class Dataset():\n",
    "    \n",
    "    def __init__(self, fp):\n",
    "        # fp: data file path\n",
    "        self.data = self.loadData(fp)\n",
    "    \n",
    "    def loadData(self, fp):\n",
    "        data = []\n",
    "        for l in open(fp):\n",
    "            data.append(tuple(map(int, l.strip().split('::')[:2])))\n",
    "        return data\n",
    "    \n",
    "    def splitData(self, M, k, seed=1):\n",
    "        '''\n",
    "        :params: data, 加载的所有(user, item)数据条目\n",
    "        :params: M, 划分的数目,最后需要取M折的平均\n",
    "        :params: k, 本次是第几次划分,k~[0, M)\n",
    "        :params: seed, random的种子数,对于不同的k应设置成一样的\n",
    "        :return: train, test\n",
    "        '''\n",
    "        train, test = [], []\n",
    "        random.seed(seed)\n",
    "        for user, item in self.data:\n",
    "            # 这里与书中的不一致，本人认为取M-1较为合理，因randint是左右都覆盖的\n",
    "            if random.randint(0, M-1) == k:  \n",
    "                test.append((user, item))\n",
    "            else:\n",
    "                train.append((user, item))\n",
    "\n",
    "        # 处理成字典的形式，user->set(items)\n",
    "        def convert_dict(data):\n",
    "            data_dict = {}\n",
    "            for user, item in data:\n",
    "                if user not in data_dict:\n",
    "                    data_dict[user] = set()\n",
    "                data_dict[user].add(item)\n",
    "            data_dict = {k: list(data_dict[k]) for k in data_dict}\n",
    "            return data_dict\n",
    "\n",
    "        return convert_dict(train), convert_dict(test)"
   ]
  },
  {
   "cell_type": "markdown",
   "metadata": {
    "pycharm": {
     "name": "#%% md\n"
    }
   },
   "source": [
    "### 2. 评价指标\n",
    "1. Precision\n",
    "2. Recall\n",
    "3. Coverage\n",
    "4. Popularity(Novelty)"
   ]
  },
  {
   "cell_type": "code",
   "execution_count": 4,
   "metadata": {
    "pycharm": {
     "name": "#%%\n"
    }
   },
   "outputs": [],
   "source": [
    "class Metric():\n",
    "    \n",
    "    def __init__(self, train, test, GetRecommendation):\n",
    "        '''\n",
    "        :params: train, 训练数据\n",
    "        :params: test, 测试数据\n",
    "        :params: GetRecommendation, 为某个用户获取推荐物品的接口函数\n",
    "        '''\n",
    "        self.train = train\n",
    "        self.test = test\n",
    "        self.GetRecommendation = GetRecommendation\n",
    "        self.recs = self.getRec()\n",
    "        \n",
    "    # 为test中的每个用户进行推荐\n",
    "    def getRec(self):\n",
    "        recs = {}\n",
    "        for user in self.test:\n",
    "            rank = self.GetRecommendation(user)\n",
    "            recs[user] = rank\n",
    "        return recs\n",
    "        \n",
    "    # 定义精确率指标计算方式\n",
    "    def precision(self):\n",
    "        all, hit = 0, 0\n",
    "        for user in self.test:\n",
    "            test_items = set(self.test[user])\n",
    "            rank = self.recs[user]\n",
    "            for item, score in rank:\n",
    "                if item in test_items:\n",
    "                    hit += 1\n",
    "            all += len(rank)\n",
    "        return round(hit / all * 100, 2)\n",
    "    \n",
    "    # 定义召回率指标计算方式\n",
    "    def recall(self):\n",
    "        all, hit = 0, 0\n",
    "        for user in self.test:\n",
    "            test_items = set(self.test[user])\n",
    "            rank = self.recs[user]\n",
    "            for item, score in rank:\n",
    "                if item in test_items:\n",
    "                    hit += 1\n",
    "            all += len(test_items)\n",
    "        return round(hit / all * 100, 2)\n",
    "    \n",
    "    # 定义覆盖率指标计算方式\n",
    "    def coverage(self):\n",
    "        all_item, recom_item = set(), set()\n",
    "        for user in self.test:\n",
    "            for item in self.train[user]:\n",
    "                all_item.add(item)\n",
    "            rank = self.recs[user]\n",
    "            for item, score in rank:\n",
    "                recom_item.add(item)\n",
    "        return round(len(recom_item) / len(all_item) * 100, 2)\n",
    "    \n",
    "    # 定义新颖度指标计算方式\n",
    "    def popularity(self):\n",
    "        # 计算物品的流行度\n",
    "        item_pop = {}\n",
    "        for user in self.train:\n",
    "            for item in self.train[user]:\n",
    "                if item not in item_pop:\n",
    "                    item_pop[item] = 0\n",
    "                item_pop[item] += 1\n",
    "\n",
    "        num, pop = 0, 0\n",
    "        for user in self.test:\n",
    "            rank = self.recs[user]\n",
    "            for item, score in rank:\n",
    "                # 取对数，防止因长尾问题带来的被流行物品所主导\n",
    "                pop += math.log(1 + item_pop[item])\n",
    "                num += 1\n",
    "        return round(pop / num, 6)\n",
    "    \n",
    "    def eval(self):\n",
    "        metric = {'Precision': self.precision(),\n",
    "                  'Recall': self.recall(),\n",
    "                  'Coverage': self.coverage(),\n",
    "                  'Popularity': self.popularity()}\n",
    "        print('Metric:', metric)\n",
    "        return metric"
   ]
  },
  {
   "cell_type": "markdown",
   "metadata": {
    "pycharm": {
     "name": "#%% md\n"
    }
   },
   "source": [
    "## 二. 算法实现\n",
    "1. ItemCF\n",
    "2. ItemIUF"
   ]
  },
  {
   "cell_type": "code",
   "execution_count": 5,
   "metadata": {
    "pycharm": {
     "name": "#%%\n"
    }
   },
   "outputs": [],
   "source": [
    "# 1. 基于物品余弦相似度的推荐\n",
    "def ItemCF(train, K, N):\n",
    "    '''\n",
    "    :params: train, 训练数据集\n",
    "    :params: K, 超参数,设置取TopK相似物品数目\n",
    "    :params: N, 超参数,设置取TopN推荐物品数目\n",
    "    :return: GetRecommendation, 推荐接口函数\n",
    "    '''\n",
    "    # 计算物品相似度矩阵\n",
    "    sim = {}\n",
    "    num = {}\n",
    "    for user in train:\n",
    "        items = train[user]\n",
    "        for i in range(len(items)):\n",
    "            u = items[i]\n",
    "            if u not in num:\n",
    "                num[u] = 0\n",
    "            num[u] += 1\n",
    "            if u not in sim:\n",
    "                sim[u] = {}\n",
    "            for j in range(len(items)):\n",
    "                if j == i: continue\n",
    "                v = items[j]\n",
    "                if v not in sim[u]:\n",
    "                    sim[u][v] = 0\n",
    "                sim[u][v] += 1\n",
    "    for u in sim:\n",
    "        for v in sim[u]:\n",
    "            sim[u][v] /= math.sqrt(num[u] * num[v])\n",
    "    \n",
    "    # 按照相似度排序\n",
    "    sorted_item_sim = {k: list(sorted(v.items(), \\\n",
    "                               key=lambda x: x[1], reverse=True)) \\\n",
    "                       for k, v in sim.items()}\n",
    "    \n",
    "    # 获取接口函数\n",
    "    def GetRecommendation(user):\n",
    "        items = {}\n",
    "        seen_items = set(train[user])\n",
    "        for item in train[user]:\n",
    "            for u, _ in sorted_item_sim[item][:K]:\n",
    "                if u not in seen_items:\n",
    "                    if u not in items:\n",
    "                        items[u] = 0\n",
    "                    items[u] += sim[item][u]\n",
    "        recs = list(sorted(items.items(), key=lambda x: x[1], reverse=True))[:N]\n",
    "        return recs\n",
    "    \n",
    "    return GetRecommendation"
   ]
  },
  {
   "cell_type": "code",
   "execution_count": 6,
   "metadata": {
    "pycharm": {
     "name": "#%%\n"
    }
   },
   "outputs": [],
   "source": [
    "# 2. 基于改进的物品余弦相似度的推荐\n",
    "def ItemIUF(train, K, N):\n",
    "    '''\n",
    "    :params: train, 训练数据集\n",
    "    :params: K, 超参数,设置取TopK相似物品数目\n",
    "    :params: N, 超参数,设置取TopN推荐物品数目\n",
    "    :return: GetRecommendation, 推荐接口函数\n",
    "    ''' \n",
    "    # 计算物品相似度矩阵\n",
    "    sim = {}\n",
    "    num = {}\n",
    "    for user in train:\n",
    "        items = train[user]\n",
    "        for i in range(len(items)):\n",
    "            u = items[i]\n",
    "            if u not in num:\n",
    "                num[u] = 0\n",
    "            num[u] += 1\n",
    "            if u not in sim:\n",
    "                sim[u] = {}\n",
    "            for j in range(len(items)):\n",
    "                if j == i: continue\n",
    "                v = items[j]\n",
    "                if v not in sim[u]:\n",
    "                    sim[u][v] = 0\n",
    "                # 相比ItemCF，主要是改进了这里\n",
    "                sim[u][v] += 1 / math.log(1 + len(items))\n",
    "    for u in sim:\n",
    "        for v in sim[u]:\n",
    "            sim[u][v] /= math.sqrt(num[u] * num[v])\n",
    "    \n",
    "    # 按照相似度排序\n",
    "    sorted_item_sim = {k: list(sorted(v.items(), \\\n",
    "                               key=lambda x: x[1], reverse=True)) \\\n",
    "                       for k, v in sim.items()}\n",
    "    \n",
    "    # 获取接口函数\n",
    "    def GetRecommendation(user):\n",
    "        items = {}\n",
    "        seen_items = set(train[user])\n",
    "        for item in train[user]:\n",
    "            for u, _ in sorted_item_sim[item][:K]:\n",
    "                # 要去掉用户见过的\n",
    "                if u not in seen_items:\n",
    "                    if u not in items:\n",
    "                        items[u] = 0\n",
    "                    items[u] += sim[item][u]\n",
    "        recs = list(sorted(items.items(), key=lambda x: x[1], reverse=True))[:N]\n",
    "        return recs\n",
    "    \n",
    "    return GetRecommendation"
   ]
  },
  {
   "cell_type": "markdown",
   "metadata": {
    "pycharm": {
     "name": "#%% md\n"
    }
   },
   "source": [
    "## 三. 实验\n",
    "1. ItemCF实验，K=[5, 10, 20, 40, 80, 160]\n",
    "2. ItemIUF实验, K=10\n",
    "3. ItemCF-Norm实验，K=10\n",
    "\n",
    "M=8, N=10"
   ]
  },
  {
   "cell_type": "code",
   "execution_count": 7,
   "outputs": [],
   "source": [
    "metricList1=[]"
   ],
   "metadata": {
    "collapsed": false,
    "pycharm": {
     "name": "#%%\n"
    }
   }
  },
  {
   "cell_type": "code",
   "execution_count": 8,
   "metadata": {
    "pycharm": {
     "name": "#%%\n"
    }
   },
   "outputs": [],
   "source": [
    "class Experiment():\n",
    "    \n",
    "    def __init__(self, M, K, N, fp='../dataset/ml-1m/ratings.dat', rt='ItemCF'):\n",
    "        '''\n",
    "        :params: M, 进行多少次实验\n",
    "        :params: K, TopK相似物品的个数\n",
    "        :params: N, TopN推荐物品的个数\n",
    "        :params: fp, 数据文件路径\n",
    "        :params: rt, 推荐算法类型\n",
    "        '''\n",
    "        self.M = M\n",
    "        self.K = K\n",
    "        self.N = N\n",
    "        self.fp = fp\n",
    "        self.rt = rt\n",
    "        self.alg = {'ItemCF': ItemCF, 'ItemIUF': ItemIUF}\n",
    "    \n",
    "    # 定义单次实验\n",
    "    @timmer\n",
    "    def worker(self, train, test):\n",
    "        '''\n",
    "        :params: train, 训练数据集\n",
    "        :params: test, 测试数据集\n",
    "        :return: 各指标的值\n",
    "        '''\n",
    "        getRecommendation = self.alg[self.rt](train, self.K, self.N)\n",
    "        metric = Metric(train, test, getRecommendation)\n",
    "        return metric.eval()\n",
    "    \n",
    "    # 多次实验取平均\n",
    "    @timmer\n",
    "    def run(self):\n",
    "        metrics = {'Precision': 0, 'Recall': 0, \n",
    "                   'Coverage': 0, 'Popularity': 0}\n",
    "        metricList = []\n",
    "        dataset = Dataset(self.fp)\n",
    "        for ii in range(self.M):\n",
    "            train, test = dataset.splitData(self.M, ii)\n",
    "            print('-------------------------Experiment {}-------------------------'.format(ii))\n",
    "            metric = self.worker(train, test)\n",
    "            metricList.append(metric)\n",
    "            metrics = {k: metrics[k]+metric[k] for k in metrics}\n",
    "        metrics = {k: metrics[k] / self.M for k in metrics}\n",
    "        metricList1.append(metrics)\n",
    "        print('Average Result (M={}, K={}, N={}): {}'.format(self.M, self.K, self.N, metrics))\n",
    "\n",
    "        df = pd.DataFrame(metricList)\n",
    "\n",
    "        fig, ax = plt.subplots() # 创建图实例\n",
    "        x = np.arange(1,9)\n",
    "        y1,y2,y3,y4=[],[],[],[]\n",
    "        for met in metricList:\n",
    "            y1.append(met['Precision'])\n",
    "            y2.append(met['Recall'])\n",
    "            y3.append(met['Coverage'])\n",
    "            y4.append(met['Popularity'])\n",
    "        ax.plot(x,y1,label='Precision')\n",
    "        ax.plot(x,y2,label='Recall')\n",
    "        ax.plot(x,y3,label='Coverage')\n",
    "        ax.plot(x,y4,label='Popularity')\n",
    "        ax.set_xlabel('Number of experiments') #设置x轴名称 Number of experiments\n",
    "        ax.set_title('Simple Plot') #设置图名为Simple Plot\n",
    "        ax.legend() #自动检测要在图例中显示的元素，并且显示\n",
    "\n",
    "        plt.show() #图形可视化\n",
    "\n",
    "        return df"
   ]
  },
  {
   "cell_type": "code",
   "execution_count": 9,
   "metadata": {
    "collapsed": true,
    "pycharm": {
     "name": "#%%\n"
    }
   },
   "outputs": [
    {
     "name": "stdout",
     "output_type": "stream",
     "text": [
      "-------------------------Experiment 0-------------------------\n",
      "Metric: {'Precision': 21.29, 'Recall': 10.22, 'Coverage': 21.3, 'Popularity': 7.167103}\n",
      "Func worker, run time: 46.09423899650574\n",
      "-------------------------Experiment 1-------------------------\n",
      "Metric: {'Precision': 21.45, 'Recall': 10.27, 'Coverage': 21.85, 'Popularity': 7.151314}\n",
      "Func worker, run time: 44.80288529396057\n",
      "-------------------------Experiment 2-------------------------\n",
      "Metric: {'Precision': 21.3, 'Recall': 10.18, 'Coverage': 22.03, 'Popularity': 7.165002}\n",
      "Func worker, run time: 44.64952087402344\n",
      "-------------------------Experiment 3-------------------------\n",
      "Metric: {'Precision': 21.17, 'Recall': 10.18, 'Coverage': 21.34, 'Popularity': 7.178365}\n",
      "Func worker, run time: 44.93100166320801\n",
      "-------------------------Experiment 4-------------------------\n",
      "Metric: {'Precision': 21.21, 'Recall': 10.2, 'Coverage': 21.8, 'Popularity': 7.170794}\n",
      "Func worker, run time: 44.802008867263794\n",
      "-------------------------Experiment 5-------------------------\n",
      "Metric: {'Precision': 21.39, 'Recall': 10.32, 'Coverage': 21.76, 'Popularity': 7.163104}\n",
      "Func worker, run time: 44.682127714157104\n",
      "-------------------------Experiment 6-------------------------\n",
      "Metric: {'Precision': 21.31, 'Recall': 10.25, 'Coverage': 21.9, 'Popularity': 7.161708}\n",
      "Func worker, run time: 44.36460590362549\n",
      "-------------------------Experiment 7-------------------------\n",
      "Metric: {'Precision': 21.16, 'Recall': 10.15, 'Coverage': 21.38, 'Popularity': 7.175929}\n",
      "Func worker, run time: 45.50727200508118\n",
      "Average Result (M=8, K=5, N=10): {'Precision': 21.284999999999997, 'Recall': 10.221250000000001, 'Coverage': 21.67, 'Popularity': 7.166664874999999}\n"
     ]
    },
    {
     "data": {
      "text/plain": "<Figure size 432x288 with 1 Axes>",
      "image/png": "[encoded data removed]"
     },
     "metadata": {
      "needs_background": "light"
     },
     "output_type": "display_data"
    },
    {
     "name": "stdout",
     "output_type": "stream",
     "text": [
      "Func run, run time: 366.01847887039185\n",
      "   Precision  Recall  Coverage  Popularity\n",
      "0      21.29   10.22     21.30    7.167103\n",
      "1      21.45   10.27     21.85    7.151314\n",
      "2      21.30   10.18     22.03    7.165002\n",
      "3      21.17   10.18     21.34    7.178365\n",
      "4      21.21   10.20     21.80    7.170794\n",
      "5      21.39   10.32     21.76    7.163104\n",
      "6      21.31   10.25     21.90    7.161708\n",
      "7      21.16   10.15     21.38    7.175929\n",
      "-------------------------Experiment 0-------------------------\n",
      "Metric: {'Precision': 21.31, 'Recall': 10.24, 'Coverage': 14.88, 'Popularity': 7.405372}\n",
      "Func worker, run time: 51.4937264919281\n",
      "-------------------------Experiment 1-------------------------\n",
      "Metric: {'Precision': 21.87, 'Recall': 10.47, 'Coverage': 14.75, 'Popularity': 7.392682}\n",
      "Func worker, run time: 51.8483030796051\n",
      "-------------------------Experiment 2-------------------------\n",
      "Metric: {'Precision': 21.54, 'Recall': 10.3, 'Coverage': 14.45, 'Popularity': 7.402261}\n",
      "Func worker, run time: 51.52913856506348\n",
      "-------------------------Experiment 3-------------------------\n",
      "Metric: {'Precision': 21.24, 'Recall': 10.21, 'Coverage': 15.14, 'Popularity': 7.406952}\n",
      "Func worker, run time: 51.99175310134888\n",
      "-------------------------Experiment 4-------------------------\n",
      "Metric: {'Precision': 21.22, 'Recall': 10.2, 'Coverage': 15.09, 'Popularity': 7.410256}\n",
      "Func worker, run time: 51.742138624191284\n",
      "-------------------------Experiment 5-------------------------\n",
      "Metric: {'Precision': 20.87, 'Recall': 10.06, 'Coverage': 14.93, 'Popularity': 7.40043}\n",
      "Func worker, run time: 52.446561336517334\n",
      "-------------------------Experiment 6-------------------------\n",
      "Metric: {'Precision': 21.4, 'Recall': 10.29, 'Coverage': 15.28, 'Popularity': 7.392671}\n",
      "Func worker, run time: 52.31593632698059\n",
      "-------------------------Experiment 7-------------------------\n",
      "Metric: {'Precision': 21.15, 'Recall': 10.15, 'Coverage': 14.85, 'Popularity': 7.417192}\n",
      "Func worker, run time: 51.970237016677856\n",
      "Average Result (M=8, K=50, N=10): {'Precision': 21.325, 'Recall': 10.240000000000002, 'Coverage': 14.92125, 'Popularity': 7.403477}\n"
     ]
    },
    {
     "data": {
      "text/plain": "<Figure size 432x288 with 1 Axes>",
      "image/png": "[encoded data removed]"
     },
     "metadata": {
      "needs_background": "light"
     },
     "output_type": "display_data"
    },
    {
     "name": "stdout",
     "output_type": "stream",
     "text": [
      "Func run, run time: 421.17921471595764\n",
      "   Precision  Recall  Coverage  Popularity\n",
      "0      21.31   10.24     14.88    7.405372\n",
      "1      21.87   10.47     14.75    7.392682\n",
      "2      21.54   10.30     14.45    7.402261\n",
      "3      21.24   10.21     15.14    7.406952\n",
      "4      21.22   10.20     15.09    7.410256\n",
      "5      20.87   10.06     14.93    7.400430\n",
      "6      21.40   10.29     15.28    7.392671\n",
      "7      21.15   10.15     14.85    7.417192\n",
      "-------------------------Experiment 0-------------------------\n",
      "Metric: {'Precision': 20.3, 'Recall': 9.75, 'Coverage': 13.14, 'Popularity': 7.409052}\n",
      "Func worker, run time: 61.45095920562744\n",
      "-------------------------Experiment 1-------------------------\n",
      "Metric: {'Precision': 20.71, 'Recall': 9.91, 'Coverage': 13.15, 'Popularity': 7.395801}\n",
      "Func worker, run time: 62.08147597312927\n",
      "-------------------------Experiment 2-------------------------\n",
      "Metric: {'Precision': 20.48, 'Recall': 9.79, 'Coverage': 12.88, 'Popularity': 7.40266}\n",
      "Func worker, run time: 60.8053879737854\n",
      "-------------------------Experiment 3-------------------------\n",
      "Metric: {'Precision': 20.26, 'Recall': 9.74, 'Coverage': 13.14, 'Popularity': 7.412788}\n",
      "Func worker, run time: 60.98945164680481\n",
      "-------------------------Experiment 4-------------------------\n",
      "Metric: {'Precision': 20.16, 'Recall': 9.7, 'Coverage': 13.27, 'Popularity': 7.410781}\n",
      "Func worker, run time: 61.09183669090271\n",
      "-------------------------Experiment 5-------------------------\n",
      "Metric: {'Precision': 19.9, 'Recall': 9.6, 'Coverage': 13.19, 'Popularity': 7.403685}\n",
      "Func worker, run time: 60.64928150177002\n",
      "-------------------------Experiment 6-------------------------\n",
      "Metric: {'Precision': 20.31, 'Recall': 9.76, 'Coverage': 13.09, 'Popularity': 7.39654}\n",
      "Func worker, run time: 61.02724266052246\n",
      "-------------------------Experiment 7-------------------------\n",
      "Metric: {'Precision': 20.15, 'Recall': 9.66, 'Coverage': 13.38, 'Popularity': 7.420759}\n",
      "Func worker, run time: 61.019612550735474\n",
      "Average Result (M=8, K=100, N=10): {'Precision': 20.28375, 'Recall': 9.73875, 'Coverage': 13.155, 'Popularity': 7.40650825}\n"
     ]
    },
    {
     "data": {
      "text/plain": "<Figure size 432x288 with 1 Axes>",
      "image/png": "[encoded data removed]"
     },
     "metadata": {
      "needs_background": "light"
     },
     "output_type": "display_data"
    },
    {
     "name": "stdout",
     "output_type": "stream",
     "text": [
      "Func run, run time: 495.13620114326477\n",
      "   Precision  Recall  Coverage  Popularity\n",
      "0      20.30    9.75     13.14    7.409052\n",
      "1      20.71    9.91     13.15    7.395801\n",
      "2      20.48    9.79     12.88    7.402660\n",
      "3      20.26    9.74     13.14    7.412788\n",
      "4      20.16    9.70     13.27    7.410781\n",
      "5      19.90    9.60     13.19    7.403685\n",
      "6      20.31    9.76     13.09    7.396540\n",
      "7      20.15    9.66     13.38    7.420759\n"
     ]
    },
    {
     "data": {
      "text/plain": "<Figure size 432x288 with 1 Axes>",
      "image/png": "[encoded data removed]"
     },
     "metadata": {
      "needs_background": "light"
     },
     "output_type": "display_data"
    }
   ],
   "source": [
    "# 1. ItemCF实验\n",
    "M, N = 8, 10\n",
    "for K in [5, 50, 100]:\n",
    "    cf_exp = Experiment(M, K, N, rt='ItemCF')\n",
    "    df = cf_exp.run()\n",
    "    print(df)\n",
    "\n",
    "x11=[5,50,100]\n",
    "y11,y22,y33,y44=[],[],[],[]\n",
    "for i in metricList1:\n",
    "    y11.append(i['Precision'])\n",
    "    y22.append(i['Recall'])\n",
    "    y33.append(i['Coverage'])\n",
    "    y44.append(i['Popularity'])\n",
    "\n",
    "fig,ax=plt.subplots()\n",
    "ax.plot(x11,y11,label='Precision')\n",
    "ax.plot(x11,y22,label='Recall')\n",
    "ax.plot(x11,y33,label='Coverage')\n",
    "ax.plot(x11,y44,label='Popularity')\n",
    "ax.set_xlabel('Number of users')\n",
    "ax.set_title('Simple Plot') #设置图名为Simple Plot\n",
    "ax.legend() #自动检测要在图例中显示的元素，并且显示\n",
    "\n",
    "plt.show()"
   ]
  },
  {
   "cell_type": "code",
   "execution_count": 10,
   "metadata": {
    "scrolled": true,
    "pycharm": {
     "name": "#%%\n"
    }
   },
   "outputs": [
    {
     "name": "stdout",
     "output_type": "stream",
     "text": [
      "-------------------------Experiment 0-------------------------\n",
      "Metric: {'Precision': 22.51, 'Recall': 10.81, 'Coverage': 17.53, 'Popularity': 7.346247}\n",
      "Func worker, run time: 104.34149813652039\n",
      "-------------------------Experiment 1-------------------------\n",
      "Metric: {'Precision': 22.87, 'Recall': 10.95, 'Coverage': 17.43, 'Popularity': 7.346612}\n",
      "Func worker, run time: 104.39313101768494\n",
      "-------------------------Experiment 2-------------------------\n",
      "Metric: {'Precision': 22.93, 'Recall': 10.96, 'Coverage': 17.86, 'Popularity': 7.353326}\n",
      "Func worker, run time: 103.90764379501343\n",
      "-------------------------Experiment 3-------------------------\n",
      "Metric: {'Precision': 22.5, 'Recall': 10.82, 'Coverage': 17.55, 'Popularity': 7.347087}\n",
      "Func worker, run time: 103.97634434700012\n",
      "-------------------------Experiment 4-------------------------\n",
      "Metric: {'Precision': 22.23, 'Recall': 10.69, 'Coverage': 17.62, 'Popularity': 7.355618}\n",
      "Func worker, run time: 115.35109162330627\n",
      "-------------------------Experiment 5-------------------------\n",
      "Metric: {'Precision': 22.73, 'Recall': 10.96, 'Coverage': 17.45, 'Popularity': 7.351502}\n",
      "Func worker, run time: 108.58935761451721\n",
      "-------------------------Experiment 6-------------------------\n",
      "Metric: {'Precision': 22.92, 'Recall': 11.02, 'Coverage': 17.21, 'Popularity': 7.341635}\n",
      "Func worker, run time: 106.78313398361206\n",
      "-------------------------Experiment 7-------------------------\n",
      "Metric: {'Precision': 22.42, 'Recall': 10.75, 'Coverage': 17.72, 'Popularity': 7.360763}\n",
      "Func worker, run time: 102.4650309085846\n",
      "Average Result (M=8, K=10, N=10): {'Precision': 22.63875, 'Recall': 10.87, 'Coverage': 17.54625, 'Popularity': 7.350348749999999}\n",
      "Func run, run time: 856.1581616401672\n"
     ]
    },
    {
     "data": {
      "text/html": [
       "<div>\n",
       "<style scoped>\n",
       "    .dataframe tbody tr th:only-of-type {\n",
       "        vertical-align: middle;\n",
       "    }\n",
       "\n",
       "    .dataframe tbody tr th {\n",
       "        vertical-align: top;\n",
       "    }\n",
       "\n",
       "    .dataframe thead th {\n",
       "        text-align: right;\n",
       "    }\n",
       "</style>\n",
       "<table border=\"1\" class=\"dataframe\">\n",
       "  <thead>\n",
       "    <tr style=\"text-align: right;\">\n",
       "      <th></th>\n",
       "      <th>Precision</th>\n",
       "      <th>Recall</th>\n",
       "      <th>Coverage</th>\n",
       "      <th>Popularity</th>\n",
       "    </tr>\n",
       "  </thead>\n",
       "  <tbody>\n",
       "    <tr>\n",
       "      <th>0</th>\n",
       "      <td>22.51</td>\n",
       "      <td>10.81</td>\n",
       "      <td>17.53</td>\n",
       "      <td>7.346247</td>\n",
       "    </tr>\n",
       "    <tr>\n",
       "      <th>1</th>\n",
       "      <td>22.87</td>\n",
       "      <td>10.95</td>\n",
       "      <td>17.43</td>\n",
       "      <td>7.346612</td>\n",
       "    </tr>\n",
       "    <tr>\n",
       "      <th>2</th>\n",
       "      <td>22.93</td>\n",
       "      <td>10.96</td>\n",
       "      <td>17.86</td>\n",
       "      <td>7.353326</td>\n",
       "    </tr>\n",
       "    <tr>\n",
       "      <th>3</th>\n",
       "      <td>22.50</td>\n",
       "      <td>10.82</td>\n",
       "      <td>17.55</td>\n",
       "      <td>7.347087</td>\n",
       "    </tr>\n",
       "    <tr>\n",
       "      <th>4</th>\n",
       "      <td>22.23</td>\n",
       "      <td>10.69</td>\n",
       "      <td>17.62</td>\n",
       "      <td>7.355618</td>\n",
       "    </tr>\n",
       "    <tr>\n",
       "      <th>5</th>\n",
       "      <td>22.73</td>\n",
       "      <td>10.96</td>\n",
       "      <td>17.45</td>\n",
       "      <td>7.351502</td>\n",
       "    </tr>\n",
       "    <tr>\n",
       "      <th>6</th>\n",
       "      <td>22.92</td>\n",
       "      <td>11.02</td>\n",
       "      <td>17.21</td>\n",
       "      <td>7.341635</td>\n",
       "    </tr>\n",
       "    <tr>\n",
       "      <th>7</th>\n",
       "      <td>22.42</td>\n",
       "      <td>10.75</td>\n",
       "      <td>17.72</td>\n",
       "      <td>7.360763</td>\n",
       "    </tr>\n",
       "  </tbody>\n",
       "</table>\n",
       "</div>"
      ],
      "text/plain": [
       "   Precision  Recall  Coverage  Popularity\n",
       "0      22.51   10.81     17.53    7.346247\n",
       "1      22.87   10.95     17.43    7.346612\n",
       "2      22.93   10.96     17.86    7.353326\n",
       "3      22.50   10.82     17.55    7.347087\n",
       "4      22.23   10.69     17.62    7.355618\n",
       "5      22.73   10.96     17.45    7.351502\n",
       "6      22.92   11.02     17.21    7.341635\n",
       "7      22.42   10.75     17.72    7.360763"
      ]
     },
     "execution_count": 10,
     "metadata": {},
     "output_type": "execute_result"
    }
   ],
   "source": [
    "# 2. ItemIUF实验\n",
    "M, N = 8, 10\n",
    "K = 10 # 与书中保持一致\n",
    "iuf_exp = Experiment(M, K, N, rt='ItemIUF')\n",
    "df = iuf_exp.run()\n",
    "print(df)"
   ]
  },
  {
   "cell_type": "markdown",
   "metadata": {
    "pycharm": {
     "name": "#%% md\n"
    }
   },
   "source": [
    "## 五. 总结\n",
    "1. 数据集分割的小技巧，用同样的seed\n",
    "2. 各个指标的实现，要注意\n",
    "3. 为每个用户推荐的时候是推荐他们**没有见过**的，因为测试集里面是这样的\n",
    "4. 推荐的时候K和N各代表什么意思，要分开设置，先取TopK，然后取TopN\n",
    "5. ItemIUF的结果与书中的正好相反，书里面是PR都有些许降低，但CP有提升。但本人做的实验则是PR提升明显，CP反而降低，十分玄学。而且，在ItemCF-Norm的实验中，Coverage的提升显著，也与书中的结果有些出入"
   ]
  }
 ],
 "metadata": {
  "kernelspec": {
   "display_name": "Python 3.10.6 64-bit",
   "language": "python",
   "name": "python3"
  },
  "language_info": {
   "codemirror_mode": {
    "name": "ipython",
    "version": 3
   },
   "file_extension": ".py",
   "mimetype": "text/x-python",
   "name": "python",
   "nbconvert_exporter": "python",
   "pygments_lexer": "ipython3",
   "version": "3.10.6"
  },
  "vscode": {
   "interpreter": {
    "hash": "8982608a9657a5444ba9b32d555c41c3eb9e25a6f4f15125221437c47bd45251"
   }
  }
 },
 "nbformat": 4,
 "nbformat_minor": 2
}
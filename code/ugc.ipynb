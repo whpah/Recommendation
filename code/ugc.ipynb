{
 "cells": [
  {
   "cell_type": "markdown",
   "metadata": {
    "pycharm": {
     "name": "#%% md\n"
    }
   },
   "source": [
    "# 基于用户标签的推荐"
   ]
  },
  {
   "cell_type": "code",
   "execution_count": 12,
   "metadata": {
    "pycharm": {
     "name": "#%%\n"
    }
   },
   "outputs": [],
   "source": [
    "# 导入包\n",
    "import random\n",
    "import math\n",
    "import time\n",
    "import pandas as pd"
   ]
  },
  {
   "cell_type": "markdown",
   "metadata": {
    "pycharm": {
     "name": "#%% md\n"
    }
   },
   "source": [
    "## 一. 通用函数定义"
   ]
  },
  {
   "cell_type": "code",
   "execution_count": 3,
   "metadata": {
    "pycharm": {
     "name": "#%%\n"
    }
   },
   "outputs": [],
   "source": [
    "# 定义装饰器，监控运行时间\n",
    "def timmer(func):\n",
    "    def wrapper(*args, **kwargs):\n",
    "        start_time = time.time()\n",
    "        res = func(*args, **kwargs)\n",
    "        stop_time = time.time()\n",
    "        print('Func %s, run time: %s' % (func.__name__, stop_time - start_time))\n",
    "        return res\n",
    "    return wrapper"
   ]
  },
  {
   "cell_type": "markdown",
   "metadata": {
    "pycharm": {
     "name": "#%% md\n"
    }
   },
   "source": [
    "### 1. 数据处理相关\n",
    "Delicious-2k数据集\n",
    "1. load data\n",
    "2. split data"
   ]
  },
  {
   "cell_type": "code",
   "execution_count": 4,
   "metadata": {
    "pycharm": {
     "name": "#%%\n"
    }
   },
   "outputs": [],
   "source": [
    "class Dataset():\n",
    "    \n",
    "    def __init__(self, fp):\n",
    "        # fp: data file path\n",
    "        self.data = self.loadData(fp)\n",
    "    \n",
    "    def loadData(self, fp):\n",
    "        data = [f.strip().split('\\t')[:3] for f in open(fp).readlines()[1:]]\n",
    "        new_data = {}\n",
    "        for user, item, tag in data:\n",
    "            if user not in new_data:\n",
    "                new_data[user] = {}\n",
    "            if item not in new_data[user]:\n",
    "                new_data[user][item] = set()\n",
    "            new_data[user][item].add(tag)\n",
    "        ret = []\n",
    "        for user in new_data:\n",
    "            for item in new_data[user]:\n",
    "                ret.append((user, item, list(new_data[user][item])))\n",
    "        return ret\n",
    "    \n",
    "    def splitData(self, M, k, seed=1):\n",
    "        '''\n",
    "        :params: data, 加载的所有(user, item)数据条目\n",
    "        :params: M, 划分的数目,最后需要取M折的平均\n",
    "        :params: k, 本次是第几次划分,k~[0, M)\n",
    "        :params: seed, random的种子数,对于不同的k应设置成一样的\n",
    "        :return: train, test\n",
    "        '''\n",
    "        # 按照(user, item)作为key进行划分\n",
    "        train, test = [], []\n",
    "        random.seed(seed)\n",
    "        for user, item, tags in self.data:\n",
    "            # 这里与书中的不一致，本人认为取M-1较为合理，因randint是左右都覆盖的\n",
    "            if random.randint(0, M-1) == k:  \n",
    "                test.append((user, item, tags))\n",
    "            else:\n",
    "                train.append((user, item, tags))\n",
    "\n",
    "        # 处理成字典的形式，user->set(items)\n",
    "        def convert_dict(data):\n",
    "            data_dict = {}\n",
    "            for user, item, tags in data:\n",
    "                if user not in data_dict:\n",
    "                    data_dict[user] = {}\n",
    "                data_dict[user][item] = tags\n",
    "            return data_dict\n",
    "\n",
    "        return convert_dict(train), convert_dict(test)"
   ]
  },
  {
   "cell_type": "markdown",
   "metadata": {
    "pycharm": {
     "name": "#%% md\n"
    }
   },
   "source": [
    "### 2. 评价指标\n",
    "1. Precision（精确率）\n",
    "2. Recall（召回率）\n",
    "3. Coverage（覆盖率）\n",
    "4. Diversity\n",
    "5. Popularity(Novelty)（新颖度）"
   ]
  },
  {
   "cell_type": "code",
   "execution_count": 5,
   "metadata": {
    "pycharm": {
     "name": "#%%\n"
    }
   },
   "outputs": [],
   "source": [
    "class Metric():\n",
    "    \n",
    "    def __init__(self, train, test, GetRecommendation):\n",
    "        '''\n",
    "        :params: train, 训练数据\n",
    "        :params: test, 实验数据\n",
    "        :params: GetRecommendation, 为某个用户获取推荐物品的接口函数\n",
    "        '''\n",
    "        self.train = train\n",
    "        self.test = test\n",
    "        self.GetRecommendation = GetRecommendation\n",
    "        self.recs = self.getRec()\n",
    "        \n",
    "    # 为test中的每个用户进行推荐\n",
    "    def getRec(self):\n",
    "        recs = {}\n",
    "        for user in self.test:\n",
    "            rank = self.GetRecommendation(user)\n",
    "            recs[user] = rank\n",
    "        return recs\n",
    "        \n",
    "    # 定义精确率指标计算方式\n",
    "    def precision(self):\n",
    "        all, hit = 0, 0\n",
    "        for user in self.test:\n",
    "            test_items = set(self.test[user])\n",
    "            rank = self.recs[user]\n",
    "            for item, score in rank:\n",
    "                if item in test_items:\n",
    "                    hit += 1\n",
    "            all += len(rank)\n",
    "        return round(hit / all * 100, 2)\n",
    "    \n",
    "    # 定义召回率指标计算方式\n",
    "    def recall(self):\n",
    "        all, hit = 0, 0\n",
    "        for user in self.test:\n",
    "            test_items = set(self.test[user])\n",
    "            rank = self.recs[user]\n",
    "            for item, score in rank:\n",
    "                if item in test_items:\n",
    "                    hit += 1\n",
    "            all += len(test_items)\n",
    "        return round(hit / all * 100, 2)\n",
    "    \n",
    "    # 定义覆盖率指标计算方式\n",
    "    def coverage(self):\n",
    "        all_item, recom_item = set(), set()\n",
    "        for user in self.train:\n",
    "            for item in self.train[user]:\n",
    "                all_item.add(item)\n",
    "        for user in self.test:\n",
    "            rank = self.recs[user]\n",
    "            for item, score in rank:\n",
    "                recom_item.add(item)\n",
    "        return round(len(recom_item) / len(all_item) * 100, 2)\n",
    "    \n",
    "    # 定义多样性指标计算方式\n",
    "    def diversity(self):\n",
    "        # 计算item_vec，每个tag的个数\n",
    "        item_tags = {}\n",
    "        for user in self.train:\n",
    "            for item in self.train[user]:\n",
    "                if item not in item_tags:\n",
    "                    item_tags[item] = {}\n",
    "                for tag in self.train[user][item]:\n",
    "                    if tag not in item_tags[item]:\n",
    "                        item_tags[item][tag] = 0\n",
    "                    item_tags[item][tag] += 1\n",
    "        \n",
    "        # 计算两个item的相似度\n",
    "        def CosineSim(u, v):\n",
    "            ret = 0\n",
    "            for tag in item_tags[u]:\n",
    "                if tag in item_tags[v]:\n",
    "                    ret += item_tags[u][tag] * item_tags[v][tag]\n",
    "            nu, nv = 0, 0\n",
    "            for tag in item_tags[u]:\n",
    "                nu += item_tags[u][tag] ** 2\n",
    "            for tag in item_tags[v]:\n",
    "                nv += item_tags[v][tag] ** 2\n",
    "            return ret / math.sqrt(nu * nv)\n",
    "        \n",
    "        # 计算Diversity\n",
    "        div = []\n",
    "        for user in self.test:\n",
    "            rank = self.recs[user]\n",
    "            sim, cnt = 0, 0\n",
    "            for u, _ in rank:\n",
    "                for v, _ in rank:\n",
    "                    if u == v:\n",
    "                        continue\n",
    "                    sim += CosineSim(u, v)\n",
    "                    cnt += 1\n",
    "            sim = sim / cnt if sim != 0 else 0\n",
    "            div.append(1 - sim)\n",
    "        return sum(div) / len(div)   \n",
    "    \n",
    "    # 定义新颖度指标计算方式\n",
    "    def popularity(self):\n",
    "        # 计算物品的流行度，为给这个物品打过标签的用户数\n",
    "        item_pop = {}\n",
    "        for user in self.train:\n",
    "            for item in self.train[user]:\n",
    "                if item not in item_pop:\n",
    "                    item_pop[item] = 0\n",
    "                item_pop[item] += 1\n",
    "\n",
    "        num, pop = 0, 0\n",
    "        for user in self.test:\n",
    "            rank = self.recs[user]\n",
    "            for item, score in rank:\n",
    "                # 取对数，防止因长尾问题带来的被流行物品所主导\n",
    "                pop += math.log(1 + item_pop[item])\n",
    "                num += 1\n",
    "        return round(pop / num, 6)\n",
    "    \n",
    "    # 评价值\n",
    "    def eval(self):\n",
    "        metric = {'Precision': self.precision(),\n",
    "                  'Recall': self.recall(),\n",
    "                  'Coverage': self.coverage(),\n",
    "                  'Diversity': self.diversity(),\n",
    "                  'Popularity': self.popularity()}\n",
    "        print('Metric:', metric)\n",
    "        return metric"
   ]
  },
  {
   "cell_type": "markdown",
   "metadata": {
    "pycharm": {
     "name": "#%% md\n"
    }
   },
   "source": [
    "## 二. 算法实现\n",
    "1. SimpleTagBased\n",
    "2. TagBasedTFIDF\n",
    "3. TagBasedTFIDF++"
   ]
  },
  {
   "cell_type": "code",
   "execution_count": 6,
   "metadata": {
    "pycharm": {
     "name": "#%%\n"
    }
   },
   "outputs": [],
   "source": [
    "# 1. 基于热门标签的推荐\n",
    "def SimpleTagBased(train, N):\n",
    "    '''\n",
    "    :params: train, 训练数据集\n",
    "    :params: N, 超参数,设置取TopN推荐物品数目\n",
    "    :return: GetRecommendation,推荐接口函数\n",
    "    '''\n",
    "    # 统计user_tags和tag_items\n",
    "    user_tags, tag_items = {}, {}\n",
    "    for user in train:\n",
    "        user_tags[user] = {}\n",
    "        for item in train[user]:\n",
    "            for tag in train[user][item]:\n",
    "                if tag not in user_tags[user]:\n",
    "                    user_tags[user][tag] = 0\n",
    "                user_tags[user][tag] += 1\n",
    "                if tag not in tag_items:\n",
    "                    tag_items[tag] = {}\n",
    "                if item not in tag_items[tag]:\n",
    "                    tag_items[tag][item] = 0\n",
    "                tag_items[tag][item] += 1\n",
    "    \n",
    "    def GetRecommendation(user):\n",
    "        # 按照打分推荐N个未见过的\n",
    "        if user not in user_tags:\n",
    "            return []\n",
    "        seen_items = set(train[user])\n",
    "        item_score = {}\n",
    "        for tag in user_tags[user]:\n",
    "            for item in tag_items[tag]:\n",
    "                if item in seen_items:\n",
    "                    continue\n",
    "                if item not in item_score:\n",
    "                    item_score[item] = 0\n",
    "                item_score[item] += user_tags[user][tag] * tag_items[tag][item]\n",
    "        item_score = list(sorted(item_score.items(), key=lambda x: x[1], reverse=True))\n",
    "        return item_score[:N]\n",
    "    \n",
    "    return GetRecommendation"
   ]
  },
  {
   "cell_type": "code",
   "execution_count": 9,
   "metadata": {
    "pycharm": {
     "name": "#%%\n"
    }
   },
   "outputs": [],
   "source": [
    "# 2. 改进一：为热门标签加入惩罚项\n",
    "def TagBasedTFIDF(train, N):\n",
    "    '''\n",
    "    :params: train, 训练数据集\n",
    "    :params: N, 超参数,设置取TopN推荐物品数目\n",
    "    :return: GetRecommendation,推荐接口函数\n",
    "    '''\n",
    "    # 统计user_tags和tag_items\n",
    "    user_tags, tag_items = {}, {}\n",
    "    # 统计标签的热门程度，即打过此标签的不同用户数\n",
    "    tag_pop = {}\n",
    "    for user in train:\n",
    "        user_tags[user] = {}\n",
    "        for item in train[user]:\n",
    "            for tag in train[user][item]:\n",
    "                if tag not in user_tags[user]:\n",
    "                    user_tags[user][tag] = 0\n",
    "                user_tags[user][tag] += 1\n",
    "                if tag not in tag_items:\n",
    "                    tag_items[tag] = {}\n",
    "                if item not in tag_items[tag]:\n",
    "                    tag_items[tag][item] = 0\n",
    "                tag_items[tag][item] += 1\n",
    "                if tag not in tag_pop:\n",
    "                    tag_pop[tag] = set()\n",
    "                tag_pop[tag].add(user)\n",
    "    tag_pop = {k: len(v) for k, v in tag_pop.items()}\n",
    "    \n",
    "    def GetRecommendation(user):\n",
    "        # 按照打分推荐N个未见过的\n",
    "        if user not in user_tags:\n",
    "            return []\n",
    "        seen_items = set(train[user])\n",
    "        item_score = {}\n",
    "        for tag in user_tags[user]:\n",
    "            for item in tag_items[tag]:\n",
    "                if item in seen_items:\n",
    "                    continue\n",
    "                if item not in item_score:\n",
    "                    item_score[item] = 0\n",
    "                item_score[item] += user_tags[user][tag] * tag_items[tag][item] / tag_pop[tag]\n",
    "        item_score = list(sorted(item_score.items(), key=lambda x: x[1], reverse=True))\n",
    "        return item_score[:N]\n",
    "    \n",
    "    return GetRecommendation"
   ]
  },
  {
   "cell_type": "code",
   "execution_count": 10,
   "metadata": {
    "pycharm": {
     "name": "#%%\n"
    }
   },
   "outputs": [],
   "source": [
    "# 3. 改进二：同时也为热门商品加入惩罚项\n",
    "def TagBasedTFIDF_Improved(train, N):\n",
    "    '''\n",
    "    :params: train, 训练数据集\n",
    "    :params: N, 超参数,设置取TopN推荐物品数目\n",
    "    :return: GetRecommendation,推荐接口函数\n",
    "    '''\n",
    "    # 统计user_tags和tag_items\n",
    "    user_tags, tag_items = {}, {}\n",
    "    # 统计标签和物品的热门程度，即打过此标签的不同用户数，和物品对应的不同用户数\n",
    "    tag_pop, item_pop = {}, {}\n",
    "    for user in train:\n",
    "        user_tags[user] = {}\n",
    "        for item in train[user]:\n",
    "            if item not in item_pop:\n",
    "                item_pop[item] = 0\n",
    "            item_pop[item] += 1\n",
    "            for tag in train[user][item]:\n",
    "                if tag not in user_tags[user]:\n",
    "                    user_tags[user][tag] = 0\n",
    "                user_tags[user][tag] += 1\n",
    "                if tag not in tag_items:\n",
    "                    tag_items[tag] = {}\n",
    "                if item not in tag_items[tag]:\n",
    "                    tag_items[tag][item] = 0\n",
    "                tag_items[tag][item] += 1\n",
    "                if tag not in tag_pop:\n",
    "                    tag_pop[tag] = set()\n",
    "                tag_pop[tag].add(user)\n",
    "    tag_pop = {k: len(v) for k, v in tag_pop.items()}\n",
    "    \n",
    "    def GetRecommendation(user):\n",
    "        # 按照打分推荐N个未见过的\n",
    "        if user not in user_tags:\n",
    "            return []\n",
    "        seen_items = set(train[user])\n",
    "        item_score = {}\n",
    "        for tag in user_tags[user]:\n",
    "            for item in tag_items[tag]:\n",
    "                if item in seen_items:\n",
    "                    continue\n",
    "                if item not in item_score:\n",
    "                    item_score[item] = 0\n",
    "                item_score[item] += user_tags[user][tag] * tag_items[tag][item] / tag_pop[tag] / item_pop[item]\n",
    "        item_score = list(sorted(item_score.items(), key=lambda x: x[1], reverse=True))\n",
    "        return item_score[:N]\n",
    "    \n",
    "    return GetRecommendation"
   ]
  },
  {
   "cell_type": "markdown",
   "metadata": {
    "pycharm": {
     "name": "#%% md\n"
    }
   },
   "source": [
    "## 三. 实验\n",
    "1. SimpleTagBased实验\n",
    "2. TagBasedTFIDF实验\n",
    "3. TagBasedTFIDF++实验\n",
    "\n",
    "M=10, N=10"
   ]
  },
  {
   "cell_type": "code",
   "execution_count": 13,
   "metadata": {
    "pycharm": {
     "name": "#%%\n"
    }
   },
   "outputs": [],
   "source": [
    "class Experiment():\n",
    "    \n",
    "    def __init__(self, M, N, fp='../dataset/delicious-2k/user_taggedbookmarks.dat', rt='SimpleTagBased'):\n",
    "        '''\n",
    "        :params: M, 进行多少次实验\n",
    "        :params: N, TopN推荐物品的个数\n",
    "        :params: fp, 数据文件路径\n",
    "        :params: rt, 推荐算法类型\n",
    "        '''\n",
    "        self.M = M\n",
    "        self.N = N\n",
    "        self.fp = fp\n",
    "        self.rt = rt\n",
    "        self.alg = {'SimpleTagBased': SimpleTagBased, 'TagBasedTFIDF': TagBasedTFIDF, \\\n",
    "                    'TagBasedTFIDF_Improved': TagBasedTFIDF_Improved}\n",
    "    \n",
    "    # 定义单次实验\n",
    "    @timmer\n",
    "    def worker(self, train, test):\n",
    "        '''\n",
    "        :params: train, 训练数据集\n",
    "        :params: test, 实验数据集\n",
    "        :return: 各指标的值\n",
    "        '''\n",
    "        getRecommendation = self.alg[self.rt](train, self.N)\n",
    "        metric = Metric(train, test, getRecommendation)\n",
    "        return metric.eval()\n",
    "    \n",
    "    # 多次实验取平均\n",
    "    @timmer\n",
    "    def run(self):\n",
    "        # 初始指标值\n",
    "        metrics = {'Precision': 0, 'Recall': 0, \n",
    "                   'Coverage': 0, 'Diversity': 0, \n",
    "                   'Popularity': 0}\n",
    "        metricList = []\n",
    "        dataset = Dataset(self.fp)\n",
    "        for ii in range(self.M):\n",
    "            train, test = dataset.splitData(self.M, ii)\n",
    "            print('-------------------------Experiment {}-------------------------'.format(ii))\n",
    "            metric = self.worker(train, test)\n",
    "            metricList.append(metric)\n",
    "            metrics = {k: metrics[k]+metric[k] for k in metrics}\n",
    "        metrics = {k: metrics[k] / self.M for k in metrics}\n",
    "        print('Average Result (M={}, N={}): {}'.format(self.M, self.N, metrics))\n",
    "        df = pd.DataFrame(metricList)\n",
    "        return df"
   ]
  },
  {
   "cell_type": "code",
   "execution_count": 14,
   "metadata": {
    "collapsed": true,
    "pycharm": {
     "name": "#%%\n"
    }
   },
   "outputs": [
    {
     "name": "stdout",
     "output_type": "stream",
     "text": [
      "-------------------------Experiment 0-------------------------\n",
      "Metric: {'Precision': 0.33, 'Recall': 0.54, 'Coverage': 3.32, 'Diversity': 0.7893190039044842, 'Popularity': 2.341847}\n",
      "Func worker, run time: 23.15436601638794\n",
      "-------------------------Experiment 1-------------------------\n",
      "Metric: {'Precision': 0.36, 'Recall': 0.59, 'Coverage': 3.38, 'Diversity': 0.789234109883235, 'Popularity': 2.326798}\n",
      "Func worker, run time: 23.364434003829956\n",
      "-------------------------Experiment 2-------------------------\n",
      "Metric: {'Precision': 0.36, 'Recall': 0.59, 'Coverage': 3.37, 'Diversity': 0.7932654461673471, 'Popularity': 2.328691}\n",
      "Func worker, run time: 23.897894620895386\n",
      "-------------------------Experiment 3-------------------------\n",
      "Metric: {'Precision': 0.29, 'Recall': 0.48, 'Coverage': 3.34, 'Diversity': 0.7981049263828354, 'Popularity': 2.365525}\n",
      "Func worker, run time: 23.42951273918152\n",
      "-------------------------Experiment 4-------------------------\n",
      "Metric: {'Precision': 0.34, 'Recall': 0.56, 'Coverage': 3.32, 'Diversity': 0.7913118831772052, 'Popularity': 2.336219}\n",
      "Func worker, run time: 24.174890279769897\n",
      "-------------------------Experiment 5-------------------------\n",
      "Metric: {'Precision': 0.33, 'Recall': 0.55, 'Coverage': 3.29, 'Diversity': 0.7898639358309013, 'Popularity': 2.346254}\n",
      "Func worker, run time: 23.536195516586304\n",
      "-------------------------Experiment 6-------------------------\n",
      "Metric: {'Precision': 0.35, 'Recall': 0.56, 'Coverage': 3.48, 'Diversity': 0.7946772879710172, 'Popularity': 2.30601}\n",
      "Func worker, run time: 23.94599413871765\n",
      "-------------------------Experiment 7-------------------------\n",
      "Metric: {'Precision': 0.33, 'Recall': 0.54, 'Coverage': 3.38, 'Diversity': 0.7910039167622696, 'Popularity': 2.363257}\n",
      "Func worker, run time: 23.41844654083252\n",
      "-------------------------Experiment 8-------------------------\n",
      "Metric: {'Precision': 0.34, 'Recall': 0.56, 'Coverage': 3.37, 'Diversity': 0.7897257089752786, 'Popularity': 2.344052}\n",
      "Func worker, run time: 23.33979868888855\n",
      "-------------------------Experiment 9-------------------------\n",
      "Metric: {'Precision': 0.35, 'Recall': 0.57, 'Coverage': 3.33, 'Diversity': 0.7881774170327035, 'Popularity': 2.340879}\n",
      "Func worker, run time: 23.11061143875122\n",
      "Average Result (M=10, N=10): {'Precision': 0.33799999999999997, 'Recall': 0.554, 'Coverage': 3.3579999999999997, 'Diversity': 0.7914683636087276, 'Popularity': 2.3399532}\n",
      "Func run, run time: 238.15312242507935\n",
      "   Precision  Recall  Coverage  Diversity  Popularity\n",
      "0       0.33    0.54      3.32   0.789319    2.341847\n",
      "1       0.36    0.59      3.38   0.789234    2.326798\n",
      "2       0.36    0.59      3.37   0.793265    2.328691\n",
      "3       0.29    0.48      3.34   0.798105    2.365525\n",
      "4       0.34    0.56      3.32   0.791312    2.336219\n",
      "5       0.33    0.55      3.29   0.789864    2.346254\n",
      "6       0.35    0.56      3.48   0.794677    2.306010\n",
      "7       0.33    0.54      3.38   0.791004    2.363257\n",
      "8       0.34    0.56      3.37   0.789726    2.344052\n",
      "9       0.35    0.57      3.33   0.788177    2.340879\n",
      "       Precision    Recall   Coverage  Diversity  Popularity\n",
      "count   10.00000  10.00000  10.000000  10.000000   10.000000\n",
      "mean     0.33800   0.55400   3.358000   0.791468    2.339953\n",
      "std      0.02044   0.03134   0.052451   0.003053    0.017397\n",
      "min      0.29000   0.48000   3.290000   0.788177    2.306010\n",
      "25%      0.33000   0.54250   3.322500   0.789421    2.330573\n",
      "50%      0.34000   0.56000   3.355000   0.790434    2.341363\n",
      "75%      0.35000   0.56750   3.377500   0.792777    2.345703\n",
      "max      0.36000   0.59000   3.480000   0.798105    2.365525\n"
     ]
    }
   ],
   "source": [
    "# 1. SimpleTagBased实验\n",
    "M, N = 10, 10\n",
    "exp = Experiment(M, N, rt='SimpleTagBased')\n",
    "df = exp.run()\n",
    "print(df)\n",
    "print(df.describe())"
   ]
  },
  {
   "cell_type": "code",
   "execution_count": 18,
   "metadata": {
    "collapsed": true,
    "pycharm": {
     "name": "#%%\n"
    }
   },
   "outputs": [
    {
     "name": "stdout",
     "output_type": "stream",
     "text": [
      "-------------------------Experiment 0-------------------------\n",
      "Metric: {'Precision': 0.38, 'Recall': 0.62, 'Coverage': 16.84, 'Diversity': 0.8817793088581598, 'Popularity': 1.32412}\n",
      "Func worker, run time: 26.699300289154053\n",
      "-------------------------Experiment 1-------------------------\n",
      "Metric: {'Precision': 0.39, 'Recall': 0.64, 'Coverage': 16.95, 'Diversity': 0.8826770775676372, 'Popularity': 1.316937}\n",
      "Func worker, run time: 26.63674783706665\n",
      "-------------------------Experiment 2-------------------------\n",
      "Metric: {'Precision': 0.35, 'Recall': 0.58, 'Coverage': 16.94, 'Diversity': 0.8810835954925031, 'Popularity': 1.32842}\n",
      "Func worker, run time: 26.720722436904907\n",
      "-------------------------Experiment 3-------------------------\n",
      "Metric: {'Precision': 0.3, 'Recall': 0.5, 'Coverage': 16.99, 'Diversity': 0.8852717719698695, 'Popularity': 1.324043}\n",
      "Func worker, run time: 26.951189517974854\n",
      "-------------------------Experiment 4-------------------------\n",
      "Metric: {'Precision': 0.39, 'Recall': 0.65, 'Coverage': 16.93, 'Diversity': 0.8839882815616571, 'Popularity': 1.318949}\n",
      "Func worker, run time: 26.797067642211914\n",
      "-------------------------Experiment 5-------------------------\n",
      "Metric: {'Precision': 0.36, 'Recall': 0.59, 'Coverage': 16.86, 'Diversity': 0.8820113579535138, 'Popularity': 1.332206}\n",
      "Func worker, run time: 27.143378734588623\n",
      "-------------------------Experiment 6-------------------------\n",
      "Metric: {'Precision': 0.36, 'Recall': 0.58, 'Coverage': 17.06, 'Diversity': 0.885744723182377, 'Popularity': 1.317039}\n",
      "Func worker, run time: 26.666520833969116\n",
      "-------------------------Experiment 7-------------------------\n",
      "Metric: {'Precision': 0.35, 'Recall': 0.58, 'Coverage': 17.08, 'Diversity': 0.8821676569757007, 'Popularity': 1.331756}\n",
      "Func worker, run time: 26.551289558410645\n",
      "-------------------------Experiment 8-------------------------\n",
      "Metric: {'Precision': 0.31, 'Recall': 0.51, 'Coverage': 16.89, 'Diversity': 0.8827933258234624, 'Popularity': 1.327594}\n",
      "Func worker, run time: 26.476576328277588\n",
      "-------------------------Experiment 9-------------------------\n",
      "Metric: {'Precision': 0.33, 'Recall': 0.55, 'Coverage': 16.98, 'Diversity': 0.8824603737044763, 'Popularity': 1.323347}\n",
      "Func worker, run time: 26.18428134918213\n",
      "Average Result (M=10, N=10): {'Precision': 0.352, 'Recall': 0.5799999999999998, 'Coverage': 16.952, 'Diversity': 0.8829977473089358, 'Popularity': 1.3244411}\n",
      "Func run, run time: 269.46449065208435\n",
      "   Precision  Recall  Coverage  Diversity  Popularity\n",
      "0       0.38    0.62     16.84   0.881779    1.324120\n",
      "1       0.39    0.64     16.95   0.882677    1.316937\n",
      "2       0.35    0.58     16.94   0.881084    1.328420\n",
      "3       0.30    0.50     16.99   0.885272    1.324043\n",
      "4       0.39    0.65     16.93   0.883988    1.318949\n",
      "5       0.36    0.59     16.86   0.882011    1.332206\n",
      "6       0.36    0.58     17.06   0.885745    1.317039\n",
      "7       0.35    0.58     17.08   0.882168    1.331756\n",
      "8       0.31    0.51     16.89   0.882793    1.327594\n",
      "9       0.33    0.55     16.98   0.882460    1.323347\n",
      "       Precision     Recall   Coverage  Diversity  Popularity\n",
      "count  10.000000  10.000000  10.000000  10.000000   10.000000\n",
      "mean    0.352000   0.580000  16.952000   0.882998    1.324441\n",
      "std     0.031198   0.049889   0.078712   0.001525    0.005601\n",
      "min     0.300000   0.500000  16.840000   0.881084    1.316937\n",
      "25%     0.335000   0.557500  16.900000   0.882050    1.320048\n",
      "50%     0.355000   0.580000  16.945000   0.882569    1.324082\n",
      "75%     0.375000   0.612500  16.987500   0.883690    1.328213\n",
      "max     0.390000   0.650000  17.080000   0.885745    1.332206\n"
     ]
    }
   ],
   "source": [
    "# 2. TagBasedTFIDF实验\n",
    "M, N = 10, 10\n",
    "exp_improved_1 = Experiment(M, N, rt='TagBasedTFIDF')\n",
    "df = exp_improved_1.run()\n",
    "print(df)\n",
    "print(df.describe())"
   ]
  },
  {
   "cell_type": "code",
   "execution_count": 19,
   "metadata": {
    "collapsed": true,
    "pycharm": {
     "name": "#%%\n"
    }
   },
   "outputs": [
    {
     "name": "stdout",
     "output_type": "stream",
     "text": [
      "-------------------------Experiment 0-------------------------\n",
      "Metric: {'Precision': 0.14, 'Recall': 0.23, 'Coverage': 19.4, 'Diversity': 0.8598754674467468, 'Popularity': 0.78619}\n",
      "Func worker, run time: 33.01668310165405\n",
      "-------------------------Experiment 1-------------------------\n",
      "Metric: {'Precision': 0.16, 'Recall': 0.27, 'Coverage': 19.36, 'Diversity': 0.8618280737703956, 'Popularity': 0.785819}\n",
      "Func worker, run time: 33.07584190368652\n",
      "-------------------------Experiment 2-------------------------\n",
      "Metric: {'Precision': 0.18, 'Recall': 0.3, 'Coverage': 19.48, 'Diversity': 0.8612912974003869, 'Popularity': 0.787078}\n",
      "Func worker, run time: 33.327146768569946\n",
      "-------------------------Experiment 3-------------------------\n",
      "Metric: {'Precision': 0.15, 'Recall': 0.24, 'Coverage': 19.32, 'Diversity': 0.8633547216465478, 'Popularity': 0.785996}\n",
      "Func worker, run time: 34.323554039001465\n",
      "-------------------------Experiment 4-------------------------\n",
      "Metric: {'Precision': 0.21, 'Recall': 0.34, 'Coverage': 19.38, 'Diversity': 0.8611563258930763, 'Popularity': 0.786326}\n",
      "Func worker, run time: 33.88843011856079\n",
      "-------------------------Experiment 5-------------------------\n",
      "Metric: {'Precision': 0.16, 'Recall': 0.27, 'Coverage': 19.36, 'Diversity': 0.8605950792737816, 'Popularity': 0.786853}\n",
      "Func worker, run time: 36.02358865737915\n",
      "-------------------------Experiment 6-------------------------\n",
      "Metric: {'Precision': 0.16, 'Recall': 0.26, 'Coverage': 19.43, 'Diversity': 0.8621936014459025, 'Popularity': 0.784228}\n",
      "Func worker, run time: 35.1332311630249\n",
      "-------------------------Experiment 7-------------------------\n",
      "Metric: {'Precision': 0.16, 'Recall': 0.26, 'Coverage': 19.57, 'Diversity': 0.8625464664363206, 'Popularity': 0.785698}\n",
      "Func worker, run time: 33.67242741584778\n",
      "-------------------------Experiment 8-------------------------\n",
      "Metric: {'Precision': 0.15, 'Recall': 0.24, 'Coverage': 19.41, 'Diversity': 0.8604770588686055, 'Popularity': 0.784394}\n",
      "Func worker, run time: 33.688968896865845\n",
      "-------------------------Experiment 9-------------------------\n",
      "Metric: {'Precision': 0.16, 'Recall': 0.27, 'Coverage': 19.4, 'Diversity': 0.8584771731708015, 'Popularity': 0.785889}\n",
      "Func worker, run time: 33.70875334739685\n",
      "Average Result (M=10, N=10): {'Precision': 0.16299999999999998, 'Recall': 0.268, 'Coverage': 19.410999999999998, 'Diversity': 0.8611795265352565, 'Popularity': 0.7858471}\n",
      "Func run, run time: 342.6232452392578\n",
      "   Precision  Recall  Coverage  Diversity  Popularity\n",
      "0       0.14    0.23     19.40   0.859875    0.786190\n",
      "1       0.16    0.27     19.36   0.861828    0.785819\n",
      "2       0.18    0.30     19.48   0.861291    0.787078\n",
      "3       0.15    0.24     19.32   0.863355    0.785996\n",
      "4       0.21    0.34     19.38   0.861156    0.786326\n",
      "5       0.16    0.27     19.36   0.860595    0.786853\n",
      "6       0.16    0.26     19.43   0.862194    0.784228\n",
      "7       0.16    0.26     19.57   0.862546    0.785698\n",
      "8       0.15    0.24     19.41   0.860477    0.784394\n",
      "9       0.16    0.27     19.40   0.858477    0.785889\n",
      "       Precision     Recall   Coverage  Diversity  Popularity\n",
      "count  10.000000  10.000000  10.000000  10.000000   10.000000\n",
      "mean    0.163000   0.268000  19.411000   0.861180    0.785847\n",
      "std     0.019465   0.032249   0.070781   0.001410    0.000922\n",
      "min     0.140000   0.230000  19.320000   0.858477    0.784228\n",
      "25%     0.152500   0.245000  19.365000   0.860507    0.785728\n",
      "50%     0.160000   0.265000  19.400000   0.861224    0.785942\n",
      "75%     0.160000   0.270000  19.425000   0.862102    0.786292\n",
      "max     0.210000   0.340000  19.570000   0.863355    0.787078\n"
     ]
    }
   ],
   "source": [
    "# 3. TagBasedTFIDF++实验\n",
    "M, N = 10, 10\n",
    "exp_improved_2 = Experiment(M, N, rt='TagBasedTFIDF_Improved')\n",
    "df = exp_improved_2.run()\n",
    "print(df)\n",
    "print(df.describe())"
   ]
  },
  {
   "cell_type": "markdown",
   "metadata": {
    "pycharm": {
     "name": "#%% md\n"
    }
   },
   "source": [
    "## 四. 实验结果\n",
    "1. SimpleTagBased实验\n",
    "\n",
    "    Running time: 404.8816478252411\n",
    "    \n",
    "    Average Result (M=10, N=10): {'Precision': 0.33799999999999997, 'Recall': 0.554, 'Coverage': 3.3579999999999997, 'Diversity': 0.7914683636087276, 'Popularity': 2.3399532}\n",
    "     \n",
    "2. TagBasedTFIDF实验\n",
    "    \n",
    "    Running time: 443.55260705947876\n",
    "    \n",
    "    Average Result (M=10, N=10): {'Precision': 0.352, 'Recall': 0.5799999999999998, 'Coverage': 16.952, 'Diversity': 0.8829977473089358, 'Popularity': 1.3244411}\n",
    "     \n",
    "3. TagBasedTFIDF_Improved实验\n",
    "    \n",
    "    Running time: 551.4401750564575\n",
    "    \n",
    "    Average Result (M=10, N=10): {'Precision': 0.16299999999999998, 'Recall': 0.268, 'Coverage': 19.410999999999998, 'Diversity': 0.8611795265352565, 'Popularity': 0.7858471}"
   ]
  }
 ],
 "metadata": {
  "kernelspec": {
   "display_name": "Python 3.10.6 64-bit",
   "language": "python",
   "name": "python3"
  },
  "language_info": {
   "codemirror_mode": {
    "name": "ipython",
    "version": 3
   },
   "file_extension": ".py",
   "mimetype": "text/x-python",
   "name": "python",
   "nbconvert_exporter": "python",
   "pygments_lexer": "ipython3",
   "version": "3.10.6"
  },
  "vscode": {
   "interpreter": {
    "hash": "8982608a9657a5444ba9b32d555c41c3eb9e25a6f4f15125221437c47bd45251"
   }
  }
 },
 "nbformat": 4,
 "nbformat_minor": 2
}